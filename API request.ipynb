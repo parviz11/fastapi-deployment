{
 "cells": [
  {
   "cell_type": "markdown",
   "id": "e1b3a3ba",
   "metadata": {},
   "source": [
    "# Please enter a row number in the second code block to retrieve probability of default"
   ]
  },
  {
   "cell_type": "markdown",
   "id": "996dfda5",
   "metadata": {},
   "source": [
    "* First read data from csv file,\n",
    "* Then enter row number to retrieve probability for a certain uuid\n",
    "* Retrieved default probability is printed in the bottom of the page."
   ]
  },
  {
   "cell_type": "code",
   "execution_count": 16,
   "id": "c850a37e-9582-4990-af8c-680009c180c3",
   "metadata": {},
   "outputs": [],
   "source": [
    "import requests\n",
    "import numpy as np\n",
    "import pandas as pd\n",
    "import json"
   ]
  },
  {
   "cell_type": "code",
   "execution_count": 2,
   "id": "e617fe86",
   "metadata": {},
   "outputs": [],
   "source": [
    "# read data file from csv here. Modify `sep` if necessary:\n",
    "\n",
    "df0 = pd.read_csv(r'dataset.csv',sep=';')\n",
    "\n",
    "df = df0[df0['default'].isna()]"
   ]
  },
  {
   "cell_type": "code",
   "execution_count": 25,
   "id": "4d50d1a9-8fe3-41c5-8605-d983e05e8fcc",
   "metadata": {},
   "outputs": [
    {
     "name": "stdout",
     "output_type": "stream",
     "text": [
      "Probability of default is 99.02%\n"
     ]
    }
   ],
   "source": [
    "row =  6789\n",
    "input_data = json.loads(df.iloc[row,:].to_json())\n",
    "\n",
    "# In case running locally use this URL\n",
    "API_URL_LOCALHOST = \"http://localhost:80/predict/\"\n",
    "\n",
    "# API URL\n",
    "API_URL = \"https://scoringapp123.azurewebsites.net/predict\"\n",
    "\n",
    "# Send the request with the preprocessed data\n",
    "response = requests.post(API_URL, json=input_data)\n",
    "result = response.json()\n",
    "\n",
    "score = float(list(result[\"probability_of_default\"].keys())[0])\n",
    "\n",
    "print(\"Probability of default is {:.2%}\".format(score))"
   ]
  }
 ],
 "metadata": {
  "kernelspec": {
   "display_name": "Python 3 (ipykernel)",
   "language": "python",
   "name": "python3"
  },
  "language_info": {
   "codemirror_mode": {
    "name": "ipython",
    "version": 3
   },
   "file_extension": ".py",
   "mimetype": "text/x-python",
   "name": "python",
   "nbconvert_exporter": "python",
   "pygments_lexer": "ipython3",
   "version": "3.12.0"
  }
 },
 "nbformat": 4,
 "nbformat_minor": 5
}
